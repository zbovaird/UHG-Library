{
 "cells": [
  {
   "cell_type": "markdown",
   "metadata": {},
   "source": [
    "# Interactive Universal Hyperbolic Geometry\n",
    "\n",
    "This notebook provides interactive examples of UHG principles and constructions. You can experiment with different points, transformations, and geometric operations to build intuition for hyperbolic geometry."
   ]
  },
  {
   "cell_type": "code",
   "execution_count": null,
   "metadata": {},
   "source": [
    "import torch\n",
    "import matplotlib.pyplot as plt\n",
    "import numpy as np\n",
    "from uhg.projective import ProjectiveUHG\n",
    "\n",
    "# Initialize UHG\n",
    "uhg = ProjectiveUHG()"
   ]
  },
  {
   "cell_type": "markdown",
   "metadata": {},
   "source": [
    "## 1. Points in Hyperbolic Space\n",
    "\n",
    "Let's start by understanding different types of points in hyperbolic space:"
   ]
  },
  {
   "cell_type": "code",
   "execution_count": null,
   "metadata": {},
   "source": [
    "# Regular point inside disk\n",
    "regular_point = torch.tensor([0.3, 0.0, 1.0])\n",
    "\n",
    "# Null point on boundary\n",
    "null_point = torch.tensor([1.0, 0.0, 1.0])\n",
    "\n",
    "# Point at infinity\n",
    "infinity = torch.tensor([1.0, 0.0, 0.0])\n",
    "\n",
    "print(f\"Regular point is null: {uhg.is_null_point(regular_point)}\")\n",
    "print(f\"Null point is null: {uhg.is_null_point(null_point)}\")\n",
    "print(f\"Infinity point properties: x²+y²-z² = {infinity[0]**2 + infinity[1]**2 - infinity[2]**2}\")"
   ]
  },
  {
   "cell_type": "markdown",
   "metadata": {},
   "source": [
    "## 2. Interactive Midpoint Construction\n",
    "\n",
    "Let's create an interactive tool to explore midpoint construction:"
   ]
  },
  {
   "cell_type": "code",
   "execution_count": null,
   "metadata": {},
   "source": [
    "def plot_points_with_midpoints(x1, y1, x2, y2):\n",
    "    # Create points\n",
    "    A = torch.tensor([x1, y1, 1.0])\n",
    "    B = torch.tensor([x2, y2, 1.0])\n",
    "    \n",
    "    # Calculate midpoints\n",
    "    m1, m2 = uhg.midpoints(A, B)\n",
    "    \n",
    "    # Plot\n",
    "    fig, ax = plt.subplots(figsize=(8, 8))\n",
    "    circle = plt.Circle((0, 0), 1, fill=False, color='black')\n",
    "    ax.add_artist(circle)\n",
    "    \n",
    "    # Plot original points\n",
    "    ax.scatter([x1, x2], [y1, y2], c='blue', label='Original Points')\n",
    "    \n",
    "    # Plot midpoints if they exist\n",
    "    if m1 is not None:\n",
    "        m1_x = m1[0]/m1[2]\n",
    "        m1_y = m1[1]/m1[2]\n",
    "        ax.scatter(m1_x, m1_y, c='red', label='Midpoint 1')\n",
    "        \n",
    "    if m2 is not None:\n",
    "        m2_x = m2[0]/m2[2]\n",
    "        m2_y = m2[1]/m2[2]\n",
    "        ax.scatter(m2_x, m2_y, c='green', label='Midpoint 2')\n",
    "    \n",
    "    ax.set_xlim(-1.1, 1.1)\n",
    "    ax.set_ylim(-1.1, 1.1)\n",
    "    ax.set_aspect('equal')\n",
    "    ax.grid(True)\n",
    "    ax.legend()\n",
    "    \n",
    "    # Print properties\n",
    "    if m1 is not None and m2 is not None:\n",
    "        print(\"\\nMidpoint Properties:\")\n",
    "        print(f\"Quadrance A to m₁: {uhg.quadrance(A, m1):.4f}\")\n",
    "        print(f\"Quadrance B to m₁: {uhg.quadrance(B, m1):.4f}\")\n",
    "        print(f\"m₁⊥m₂ dot product: {uhg.hyperbolic_dot(m1, m2):.4e}\")\n",
    "        print(f\"Cross-ratio: {uhg.cross_ratio(A, B, m1, m2):.4f}\")\n",
    "    \n",
    "    plt.show()\n",
    "\n",
    "# Example usage\n",
    "plot_points_with_midpoints(0.3, 0.0, 0.4, 0.2)"
   ]
  },
  {
   "cell_type": "markdown",
   "metadata": {},
   "source": [
    "## 3. Projective Transformations\n",
    "\n",
    "Let's explore how projective transformations affect geometric properties:"
   ]
  },
  {
   "cell_type": "code",
   "execution_count": null,
   "metadata": {},
   "source": [
    "def apply_and_plot_transformation(points, matrix):\n",
    "    # Transform points\n",
    "    transformed = torch.stack([uhg.transform(p, matrix) for p in points])\n",
    "    \n",
    "    # Plot original and transformed\n",
    "    fig, (ax1, ax2) = plt.subplots(1, 2, figsize=(15, 7))\n",
    "    \n",
    "    for ax, pts, title in [(ax1, points, 'Original'), (ax2, transformed, 'Transformed')]:\n",
    "        # Plot points\n",
    "        x = pts[:, 0] / pts[:, 2]\n",
    "        y = pts[:, 1] / pts[:, 2]\n",
    "        ax.scatter(x, y)\n",
    "        \n",
    "        # Add unit circle\n",
    "        circle = plt.Circle((0, 0), 1, fill=False, color='black')\n",
    "        ax.add_artist(circle)\n",
    "        \n",
    "        ax.set_xlim(-1.1, 1.1)\n",
    "        ax.set_ylim(-1.1, 1.1)\n",
    "        ax.set_aspect('equal')\n",
    "        ax.set_title(title)\n",
    "        ax.grid(True)\n",
    "    \n",
    "    plt.show()\n",
    "    return transformed\n",
    "\n",
    "# Create some points\n",
    "points = torch.tensor([\n",
    "    [0.3, 0.0, 1.0],\n",
    "    [0.4, 0.2, 1.0],\n",
    "    [0.0, 0.5, 1.0]\n",
    "])\n",
    "\n",
    "# Create and apply transformation\n",
    "matrix = uhg.get_projective_matrix(2)\n",
    "transformed = apply_and_plot_transformation(points, matrix)\n",
    "\n",
    "# Verify invariants\n",
    "print(\"\\nInvariant Properties:\")\n",
    "print(\"Original cross-ratio:\", uhg.cross_ratio(points[0], points[1], points[2], points[0]).item())\n",
    "print(\"Transformed cross-ratio:\", uhg.cross_ratio(transformed[0], transformed[1], transformed[2], transformed[0]).item())"
   ]
  },
  {
   "cell_type": "markdown",
   "metadata": {},
   "source": [
    "## 4. Edge Cases and Numerical Stability\n",
    "\n",
    "Let's explore how the library handles various edge cases:"
   ]
  },
  {
   "cell_type": "code",
   "execution_count": null,
   "metadata": {},
   "source": [
    "def explore_edge_case(case_name, point1, point2):\n",
    "    print(f\"\\n{case_name}:\")\n",
    "    print(f\"Point 1: {point1}\")\n",
    "    print(f\"Point 2: {point2}\")\n",
    "    \n",
    "    # Try to calculate midpoints\n",
    "    m1, m2 = uhg.midpoints(point1, point2)\n",
    "    \n",
    "    print(\"Results:\")\n",
    "    print(f\"Midpoints exist: {m1 is not None and m2 is not None}\")\n",
    "    if m1 is not None:\n",
    "        print(f\"First midpoint: {m1}\")\n",
    "        if m2 is not None:\n",
    "            print(f\"Second midpoint: {m2}\")\n",
    "            print(f\"Perpendicular: {abs(uhg.hyperbolic_dot(m1, m2)) < 1e-5}\")\n",
    "\n",
    "# Test cases\n",
    "cases = [\n",
    "    (\"Same point\", torch.tensor([0.3, 0.0, 1.0]), torch.tensor([0.3, 0.0, 1.0])),\n",
    "    (\"Null point\", torch.tensor([1.0, 0.0, 1.0]), torch.tensor([0.3, 0.0, 1.0])),\n",
    "    (\"Points too far\", torch.tensor([0.3, 0.0, 1.0]), torch.tensor([2.0, 0.0, 1.0])),\n",
    "    (\"Nearly coincident\", torch.tensor([0.3, 0.0, 1.0]), torch.tensor([0.3 + 1e-6, 0.0, 1.0]))\n",
    "]\n",
    "\n",
    "for name, p1, p2 in cases:\n",
    "    explore_edge_case(name, p1, p2)"
   ]
  }
 ],
 "metadata": {
  "kernelspec": {
   "display_name": "Python 3",
   "language": "python",
   "name": "python3"
  },
  "language_info": {
   "codemirror_mode": {
    "name": "ipython",
    "version": 3
   },
   "file_extension": ".py",
   "mimetype": "text/x-python",
   "name": "python",
   "nbconvert_exporter": "python",
   "pygments_lexer": "ipython3",
   "version": "3.8.0"
  }
 },
 "nbformat": 4,
 "nbformat_minor": 4
}
